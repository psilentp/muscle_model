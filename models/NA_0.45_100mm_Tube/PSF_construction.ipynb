{
 "cells": [
  {
   "cell_type": "code",
   "execution_count": 6,
   "metadata": {
    "collapsed": false
   },
   "outputs": [
    {
     "name": "stdout",
     "output_type": "stream",
     "text": [
      "Populating the interactive namespace from numpy and matplotlib\n"
     ]
    }
   ],
   "source": [
    "%pylab inline"
   ]
  },
  {
   "cell_type": "code",
   "execution_count": 7,
   "metadata": {
    "collapsed": true
   },
   "outputs": [],
   "source": [
    "#%matplotlib inline\n",
    "import matplotlib.pyplot as plt"
   ]
  },
  {
   "cell_type": "code",
   "execution_count": 8,
   "metadata": {
    "collapsed": true
   },
   "outputs": [],
   "source": [
    "from scipy import ndimage"
   ]
  },
  {
   "cell_type": "code",
   "execution_count": 9,
   "metadata": {
    "collapsed": false
   },
   "outputs": [],
   "source": [
    "stacks = [np.mean([ndimage.imread('./PSF_cal/im%s_%s.tiff'%(i,j),flatten = True).astype(np.float64)\n",
    "                   for j in range(1,4)], axis = 0) for i in range(1,38)]"
   ]
  },
  {
   "cell_type": "code",
   "execution_count": 10,
   "metadata": {
    "collapsed": true
   },
   "outputs": [],
   "source": [
    "#note shutter duration in ms\n",
    "#im<21 3176.137\n",
    "#im22 1588.0685\n",
    "#im23 204.022 \n",
    "#im24 41.060\n",
    "#im26 204.022\n",
    "#im29 1588.0685\n",
    "#im34 3176.137"
   ]
  },
  {
   "cell_type": "code",
   "execution_count": 11,
   "metadata": {
    "collapsed": true
   },
   "outputs": [],
   "source": [
    "from ipywidgets import interact\n",
    "\n",
    "def browse_images(stacks):\n",
    "    n = len(stacks)\n",
    "    subfrm = stacks[0]\n",
    "    imshow(subfrm, cmap=plt.cm.gray, interpolation='none')\n",
    "    def view_image(i):\n",
    "        frm = stacks[i]\n",
    "        subfrm = frm\n",
    "        imshow(subfrm, cmap=plt.cm.gray, interpolation='none')\n",
    "        show()\n",
    "    interact(view_image, i=(0,n-1))"
   ]
  },
  {
   "cell_type": "code",
   "execution_count": 12,
   "metadata": {
    "collapsed": true
   },
   "outputs": [],
   "source": [
    "def filter_frame(frm):\n",
    "    box_size = 200\n",
    "    y = 248\n",
    "    x = 155\n",
    "    subfrm = frm[x:x+box_size,y:y+box_size]\n",
    "    bkg = np.mean(subfrm[:10,:10])\n",
    "    subfrm -= bkg\n",
    "    subfrm[subfrm<0] = 0\n",
    "    high_im = ndimage.gaussian_filter(subfrm,0.5)\n",
    "    low_im = ndimage.gaussian_filter(subfrm,25)\n",
    "    subfrm = high_im-low_im\n",
    "    subfrm[subfrm<0] = 0\n",
    "    subfrm = subfrm/np.max(subfrm)\n",
    "    return subfrm"
   ]
  },
  {
   "cell_type": "code",
   "execution_count": 13,
   "metadata": {
    "collapsed": true
   },
   "outputs": [],
   "source": [
    "filtered_images = [filter_frame(fr) for fr in stacks[2:]]"
   ]
  },
  {
   "cell_type": "code",
   "execution_count": 14,
   "metadata": {
    "collapsed": false
   },
   "outputs": [
    {
     "data": {
      "text/plain": [
       "35"
      ]
     },
     "execution_count": 14,
     "metadata": {},
     "output_type": "execute_result"
    }
   ],
   "source": [
    "len(filtered_images)"
   ]
  },
  {
   "cell_type": "code",
   "execution_count": 15,
   "metadata": {
    "collapsed": false
   },
   "outputs": [],
   "source": [
    "values = np.array(filtered_images)"
   ]
  },
  {
   "cell_type": "code",
   "execution_count": 16,
   "metadata": {
    "collapsed": true
   },
   "outputs": [],
   "source": [
    "nslices = len(values)"
   ]
  },
  {
   "cell_type": "code",
   "execution_count": 53,
   "metadata": {
    "collapsed": false
   },
   "outputs": [
    {
     "data": {
      "text/plain": [
       "array([-1700., -1600., -1500., -1400., -1300., -1200., -1100., -1000.,\n",
       "        -900.,  -800.,  -700.,  -600.,  -500.,  -400.,  -300.,  -200.,\n",
       "        -100.,     0.,   100.,   200.,   300.,   400.,   500.,   600.,\n",
       "         700.,   800.,   900.,  1000.,  1100.,  1200.,  1300.,  1400.,\n",
       "        1500.,  1600.,  1700.])"
      ]
     },
     "execution_count": 53,
     "metadata": {},
     "output_type": "execute_result"
    }
   ],
   "source": [
    "np.linspace(0,34*100,35) - (34*100/2)"
   ]
  },
  {
   "cell_type": "code",
   "execution_count": 58,
   "metadata": {
    "collapsed": false
   },
   "outputs": [
    {
     "data": {
      "text/plain": [
       "array([-178.8       , -175.79495798, -172.78991597, -169.78487395,\n",
       "       -166.77983193, -163.77478992, -160.7697479 , -157.76470588,\n",
       "       -154.75966387, -151.75462185, -148.74957983, -145.74453782,\n",
       "       -142.7394958 , -139.73445378, -136.72941176, -133.72436975,\n",
       "       -130.71932773, -127.71428571, -124.7092437 , -121.70420168,\n",
       "       -118.69915966, -115.69411765, -112.68907563, -109.68403361,\n",
       "       -106.6789916 , -103.67394958, -100.66890756,  -97.66386555,\n",
       "        -94.65882353,  -91.65378151,  -88.6487395 ,  -85.64369748,\n",
       "        -82.63865546,  -79.63361345,  -76.62857143,  -73.62352941,\n",
       "        -70.61848739,  -67.61344538,  -64.60840336,  -61.60336134,\n",
       "        -58.59831933,  -55.59327731,  -52.58823529,  -49.58319328,\n",
       "        -46.57815126,  -43.57310924,  -40.56806723,  -37.56302521,\n",
       "        -34.55798319,  -31.55294118,  -28.54789916,  -25.54285714,\n",
       "        -22.53781513,  -19.53277311,  -16.52773109,  -13.52268908,\n",
       "        -10.51764706,   -7.51260504,   -4.50756303,   -1.50252101,\n",
       "          1.50252101,    4.50756303,    7.51260504,   10.51764706,\n",
       "         13.52268908,   16.52773109,   19.53277311,   22.53781513,\n",
       "         25.54285714,   28.54789916,   31.55294118,   34.55798319,\n",
       "         37.56302521,   40.56806723,   43.57310924,   46.57815126,\n",
       "         49.58319328,   52.58823529,   55.59327731,   58.59831933,\n",
       "         61.60336134,   64.60840336,   67.61344538,   70.61848739,\n",
       "         73.62352941,   76.62857143,   79.63361345,   82.63865546,\n",
       "         85.64369748,   88.6487395 ,   91.65378151,   94.65882353,\n",
       "         97.66386555,  100.66890756,  103.67394958,  106.6789916 ,\n",
       "        109.68403361,  112.68907563,  115.69411765,  118.69915966,\n",
       "        121.70420168,  124.7092437 ,  127.71428571,  130.71932773,\n",
       "        133.72436975,  136.72941176,  139.73445378,  142.7394958 ,\n",
       "        145.74453782,  148.74957983,  151.75462185,  154.75966387,\n",
       "        157.76470588,  160.7697479 ,  163.77478992,  166.77983193,\n",
       "        169.78487395,  172.78991597,  175.79495798,  178.8       ])"
      ]
     },
     "execution_count": 58,
     "metadata": {},
     "output_type": "execute_result"
    }
   ],
   "source": [
    "grid_z[:,0,9]"
   ]
  },
  {
   "cell_type": "code",
   "execution_count": 50,
   "metadata": {
    "collapsed": false
   },
   "outputs": [],
   "source": [
    "from scipy.interpolate import RegularGridInterpolator\n",
    "# focal plane spacing is 100um\n",
    "# pixel pitch 0.8639 pixels/um = 1.158 um/pixel\n",
    "pnts = (np.linspace(0,34*100,35) - (34*100/2),\n",
    "        np.linspace(0,1.158*199,200) - (1.158*199/2.0),\n",
    "        np.linspace(0,1.158*199,200) - (1.158*199/2.0))\n",
    "\n",
    "#pnts = (np.linspace(0,10,35),\n",
    "#        np.linspace(0,1,200),\n",
    "#        np.linspace(0,1,200))\n",
    "\n",
    "#1024/1024 image \n",
    "grid_z, grid_x, grid_y = np.mgrid[-89.4*2:89.4*2:60*2j,-778.24/2.0:778.24/2.0:1024j, -778.24/2.0:778.24/2.0:1024j]\n",
    "values = np.array(filtered_images)\n",
    "PSF = RegularGridInterpolator(pnts, values, method='linear',bounds_error = False,fill_value = 0)"
   ]
  },
  {
   "cell_type": "code",
   "execution_count": 51,
   "metadata": {
    "collapsed": false
   },
   "outputs": [],
   "source": [
    "interp = PSF((grid_z,grid_x,grid_y))"
   ]
  },
  {
   "cell_type": "code",
   "execution_count": 52,
   "metadata": {
    "collapsed": false
   },
   "outputs": [
    {
     "data": {
      "image/png": "[encoded data removed]",
      "text/plain": [
       "<matplotlib.figure.Figure at 0x7f1da9616490>"
      ]
     },
     "metadata": {},
     "output_type": "display_data"
    }
   ],
   "source": [
    "browse_images(interp)"
   ]
  },
  {
   "cell_type": "code",
   "execution_count": 15,
   "metadata": {
    "collapsed": true
   },
   "outputs": [],
   "source": [
    "from scipy.interpolate import griddata\n",
    "#grid_z0 = griddata(points.T, values, (grid_z,grid_x, grid_y), method='linear')"
   ]
  },
  {
   "cell_type": "code",
   "execution_count": 104,
   "metadata": {
    "collapsed": false
   },
   "outputs": [
    {
     "data": {
      "text/plain": [
       "<matplotlib.image.AxesImage at 0x7f0cf3732890>"
      ]
     },
     "execution_count": 104,
     "metadata": {},
     "output_type": "execute_result"
    }
   ],
   "source": [
    "imshow(grid_z0[41],cmap = cm.gray)"
   ]
  },
  {
   "cell_type": "code",
   "execution_count": null,
   "metadata": {
    "collapsed": true
   },
   "outputs": [],
   "source": [
    "print 'here'"
   ]
  },
  {
   "cell_type": "code",
   "execution_count": null,
   "metadata": {
    "collapsed": true
   },
   "outputs": [],
   "source": []
  },
  {
   "cell_type": "code",
   "execution_count": 177,
   "metadata": {
    "collapsed": true
   },
   "outputs": [],
   "source": [
    "import os"
   ]
  },
  {
   "cell_type": "code",
   "execution_count": 189,
   "metadata": {
    "collapsed": false
   },
   "outputs": [],
   "source": [
    "for x in range(33,40):\n",
    "    for j in range(1,4):\n",
    "        infile = './PSF_cal/im%s_%s.tiff'%(x,j)\n",
    "        outfile = './PSF_cal/im%s_%s.tiff'%(x-2,j)\n",
    "        os.rename(infile,outfile)"
   ]
  },
  {
   "cell_type": "code",
   "execution_count": 8,
   "metadata": {
    "collapsed": false
   },
   "outputs": [],
   "source": [
    "ax = subplot(1,1,1)\n",
    "frm = 0\n",
    "import time\n",
    "\n",
    "frm = stacks[0]\n",
    "subfrm = frm[x:x+box_size,y:y+box_size]\n",
    "im = ax.imshow(subfrm/np.max(subfrm))\n",
    "for frm in stacks:\n",
    "#frm = stacks[20]\n",
    "    subfrm = frm[x:x+box_size,y:y+box_size]\n",
    "    im.set_data(subfrm/np.max(subfrm))\n",
    "    draw()\n",
    "    time.sleep(0.1)\n",
    "    #pause(0.01)"
   ]
  },
  {
   "cell_type": "code",
   "execution_count": 17,
   "metadata": {
    "collapsed": true
   },
   "outputs": [],
   "source": [
    "tifffiles = [tf for tf in os.listdir('./Point_spread_calibration/') if '.tiff' in tf]"
   ]
  },
  {
   "cell_type": "code",
   "execution_count": 19,
   "metadata": {
    "collapsed": false
   },
   "outputs": [],
   "source": [
    "imgs = [ndimage.imread('./Point_spread_calibration/' + tf,flatten = True) for tf in tifffiles]"
   ]
  },
  {
   "cell_type": "code",
   "execution_count": 20,
   "metadata": {
    "collapsed": true
   },
   "outputs": [],
   "source": [
    "import time"
   ]
  },
  {
   "cell_type": "code",
   "execution_count": 26,
   "metadata": {
    "collapsed": false
   },
   "outputs": [],
   "source": [
    "img = imshow(imgs[0])\n",
    "for im in imgs:\n",
    "    img.set_data(im)\n",
    "    show()\n",
    "    time.sleep(0.1)"
   ]
  },
  {
   "cell_type": "code",
   "execution_count": null,
   "metadata": {
    "collapsed": false
   },
   "outputs": [],
   "source": [
    "imshow(imgs[5])"
   ]
  },
  {
   "cell_type": "code",
   "execution_count": null,
   "metadata": {
    "collapsed": true
   },
   "outputs": [],
   "source": []
  }
 ],
 "metadata": {
  "kernelspec": {
   "display_name": "Python 2",
   "language": "python",
   "name": "python2"
  },
  "language_info": {
   "codemirror_mode": {
    "name": "ipython",
    "version": 2
   },
   "file_extension": ".py",
   "mimetype": "text/x-python",
   "name": "python",
   "nbconvert_exporter": "python",
   "pygments_lexer": "ipython2",
   "version": "2.7.12"
  },
  "widgets": {
   "state": {
    "6c9155af1d754570900dd3782aceedd7": {
     "views": [
      {
       "cell_index": 13
      }
     ]
    }
   },
   "version": "1.2.0"
  }
 },
 "nbformat": 4,
 "nbformat_minor": 2
}
