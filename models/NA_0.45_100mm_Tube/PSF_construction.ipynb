{
 "cells": [
  {
   "cell_type": "code",
   "execution_count": 1,
   "metadata": {
    "collapsed": false
   },
   "outputs": [
    {
     "name": "stdout",
     "output_type": "stream",
     "text": [
      "Populating the interactive namespace from numpy and matplotlib\n"
     ]
    }
   ],
   "source": [
    "%pylab inline"
   ]
  },
  {
   "cell_type": "code",
   "execution_count": 2,
   "metadata": {
    "collapsed": true
   },
   "outputs": [],
   "source": [
    "#%matplotlib inline\n",
    "import matplotlib.pyplot as plt"
   ]
  },
  {
   "cell_type": "code",
   "execution_count": 3,
   "metadata": {
    "collapsed": true
   },
   "outputs": [],
   "source": [
    "from scipy import ndimage"
   ]
  },
  {
   "cell_type": "code",
   "execution_count": 4,
   "metadata": {
    "collapsed": false
   },
   "outputs": [],
   "source": [
    "stacks = [np.mean([ndimage.imread('./PSF_cal/im%s_%s.tiff'%(i,j),flatten = True).astype(np.float64)\n",
    "                   for j in range(1,4)], axis = 0) for i in range(1,38)]"
   ]
  },
  {
   "cell_type": "code",
   "execution_count": 5,
   "metadata": {
    "collapsed": true
   },
   "outputs": [],
   "source": [
    "from ipywidgets import interact\n",
    "\n",
    "def browse_images(stacks):\n",
    "    n = len(stacks)\n",
    "    subfrm = stacks[0]\n",
    "    imshow(subfrm, cmap=plt.cm.gray, interpolation='none')\n",
    "    def view_image(i):\n",
    "        frm = stacks[i]\n",
    "        subfrm = frm\n",
    "        imshow(subfrm, cmap=plt.cm.gray, interpolation='none')\n",
    "        show()\n",
    "    interact(view_image, i=(0,n-1))"
   ]
  },
  {
   "cell_type": "code",
   "execution_count": 48,
   "metadata": {
    "collapsed": true
   },
   "outputs": [],
   "source": [
    "def filter_frame(frm):\n",
    "    box_size = 200\n",
    "    y = 248\n",
    "    x = 155\n",
    "    subfrm = frm[x:x+box_size,y:y+box_size]\n",
    "    bkg = np.mean(subfrm[:10,:10])\n",
    "    subfrm -= bkg\n",
    "    subfrm[subfrm<0] = 0\n",
    "    high_im = ndimage.gaussian_filter(subfrm,0.5)\n",
    "    low_im = ndimage.gaussian_filter(subfrm,25)\n",
    "    subfrm = high_im-low_im\n",
    "    subfrm[subfrm<0] = 0\n",
    "    subfrm = subfrm/np.max(subfrm)\n",
    "    return subfrm"
   ]
  },
  {
   "cell_type": "code",
   "execution_count": 9,
   "metadata": {
    "collapsed": true
   },
   "outputs": [],
   "source": [
    "filtered_images = [filter_frame(fr) for fr in stacks[2:]]"
   ]
  },
  {
   "cell_type": "code",
   "execution_count": 68,
   "metadata": {
    "collapsed": false
   },
   "outputs": [
    {
     "data": {
      "text/plain": [
       "35"
      ]
     },
     "execution_count": 68,
     "metadata": {},
     "output_type": "execute_result"
    }
   ],
   "source": [
    "len(filtered_images)"
   ]
  },
  {
   "cell_type": "code",
   "execution_count": 10,
   "metadata": {
    "collapsed": false
   },
   "outputs": [],
   "source": [
    "values = np.array(filtered_images)"
   ]
  },
  {
   "cell_type": "code",
   "execution_count": 63,
   "metadata": {
    "collapsed": true
   },
   "outputs": [],
   "source": [
    "nslices = len(values)"
   ]
  },
  {
   "cell_type": "code",
   "execution_count": 86,
   "metadata": {
    "collapsed": false
   },
   "outputs": [
    {
     "data": {
      "text/plain": [
       "array([   0.   ,    1.158,    2.316,    3.474,    4.632,    5.79 ,\n",
       "          6.948,    8.106,    9.264,   10.422,   11.58 ,   12.738,\n",
       "         13.896,   15.054,   16.212,   17.37 ,   18.528,   19.686,\n",
       "         20.844,   22.002,   23.16 ,   24.318,   25.476,   26.634,\n",
       "         27.792,   28.95 ,   30.108,   31.266,   32.424,   33.582,\n",
       "         34.74 ,   35.898,   37.056,   38.214,   39.372,   40.53 ,\n",
       "         41.688,   42.846,   44.004,   45.162,   46.32 ,   47.478,\n",
       "         48.636,   49.794,   50.952,   52.11 ,   53.268,   54.426,\n",
       "         55.584,   56.742,   57.9  ,   59.058,   60.216,   61.374,\n",
       "         62.532,   63.69 ,   64.848,   66.006,   67.164,   68.322,\n",
       "         69.48 ,   70.638,   71.796,   72.954,   74.112,   75.27 ,\n",
       "         76.428,   77.586,   78.744,   79.902,   81.06 ,   82.218,\n",
       "         83.376,   84.534,   85.692,   86.85 ,   88.008,   89.166,\n",
       "         90.324,   91.482,   92.64 ,   93.798,   94.956,   96.114,\n",
       "         97.272,   98.43 ,   99.588,  100.746,  101.904,  103.062,\n",
       "        104.22 ,  105.378,  106.536,  107.694,  108.852,  110.01 ,\n",
       "        111.168,  112.326,  113.484,  114.642,  115.8  ,  116.958,\n",
       "        118.116,  119.274,  120.432,  121.59 ,  122.748,  123.906,\n",
       "        125.064,  126.222,  127.38 ,  128.538,  129.696,  130.854,\n",
       "        132.012,  133.17 ,  134.328,  135.486,  136.644,  137.802,\n",
       "        138.96 ,  140.118,  141.276,  142.434,  143.592,  144.75 ,\n",
       "        145.908,  147.066,  148.224,  149.382,  150.54 ,  151.698,\n",
       "        152.856,  154.014,  155.172,  156.33 ,  157.488,  158.646,\n",
       "        159.804,  160.962,  162.12 ,  163.278,  164.436,  165.594,\n",
       "        166.752,  167.91 ,  169.068,  170.226,  171.384,  172.542,\n",
       "        173.7  ,  174.858,  176.016,  177.174,  178.332,  179.49 ,\n",
       "        180.648,  181.806,  182.964,  184.122,  185.28 ,  186.438,\n",
       "        187.596,  188.754,  189.912,  191.07 ,  192.228,  193.386,\n",
       "        194.544,  195.702,  196.86 ,  198.018,  199.176,  200.334,\n",
       "        201.492,  202.65 ,  203.808,  204.966,  206.124,  207.282,\n",
       "        208.44 ,  209.598,  210.756,  211.914,  213.072,  214.23 ,\n",
       "        215.388,  216.546,  217.704,  218.862,  220.02 ,  221.178,\n",
       "        222.336,  223.494,  224.652,  225.81 ,  226.968,  228.126,\n",
       "        229.284,  230.442])"
      ]
     },
     "execution_count": 86,
     "metadata": {},
     "output_type": "execute_result"
    }
   ],
   "source": [
    "np.linspace(0,1.158*199,200)"
   ]
  },
  {
   "cell_type": "code",
   "execution_count": 24,
   "metadata": {
    "collapsed": false
   },
   "outputs": [],
   "source": [
    "from scipy.interpolate import RegularGridInterpolator\n",
    "# focal plane spacing is 100um\n",
    "# pixel pitch 0.8639 pixels/um = 1.158 um/pixel\n",
    "pnts = (np.linspace(0,34*100,35),\n",
    "        np.linspace(0,1.158*199,200),\n",
    "        np.linspace(0,1.158*199,200))\n",
    "#1024/1024 image \n",
    "grid_z, grid_x, grid_y = np.mgrid[0:10:60j,0:1:400j, 0:1:200j]\n",
    "values = np.array(filtered_images)\n",
    "PSF = RegularGridInterpolator(pnts, values, method='linear')"
   ]
  },
  {
   "cell_type": "code",
   "execution_count": 30,
   "metadata": {
    "collapsed": false
   },
   "outputs": [],
   "source": [
    "interp = PSF((grid_z,grid_x,grid_y))"
   ]
  },
  {
   "cell_type": "code",
   "execution_count": 61,
   "metadata": {
    "collapsed": false
   },
   "outputs": [
    {
     "data": {
      "image/png": "[encoded data removed]",
      "text/plain": [
       "<matplotlib.figure.Figure at 0x7f8908498390>"
      ]
     },
     "metadata": {},
     "output_type": "display_data"
    }
   ],
   "source": [
    "browse_images(interp)"
   ]
  },
  {
   "cell_type": "code",
   "execution_count": 15,
   "metadata": {
    "collapsed": true
   },
   "outputs": [],
   "source": [
    "from scipy.interpolate import griddata\n",
    "#grid_z0 = griddata(points.T, values, (grid_z,grid_x, grid_y), method='linear')"
   ]
  },
  {
   "cell_type": "code",
   "execution_count": 104,
   "metadata": {
    "collapsed": false
   },
   "outputs": [
    {
     "data": {
      "text/plain": [
       "<matplotlib.image.AxesImage at 0x7f0cf3732890>"
      ]
     },
     "execution_count": 104,
     "metadata": {},
     "output_type": "execute_result"
    }
   ],
   "source": [
    "imshow(grid_z0[41],cmap = cm.gray)"
   ]
  },
  {
   "cell_type": "code",
   "execution_count": null,
   "metadata": {
    "collapsed": true
   },
   "outputs": [],
   "source": [
    "print 'here'"
   ]
  },
  {
   "cell_type": "code",
   "execution_count": null,
   "metadata": {
    "collapsed": true
   },
   "outputs": [],
   "source": []
  },
  {
   "cell_type": "code",
   "execution_count": 177,
   "metadata": {
    "collapsed": true
   },
   "outputs": [],
   "source": [
    "import os"
   ]
  },
  {
   "cell_type": "code",
   "execution_count": 189,
   "metadata": {
    "collapsed": false
   },
   "outputs": [],
   "source": [
    "for x in range(33,40):\n",
    "    for j in range(1,4):\n",
    "        infile = './PSF_cal/im%s_%s.tiff'%(x,j)\n",
    "        outfile = './PSF_cal/im%s_%s.tiff'%(x-2,j)\n",
    "        os.rename(infile,outfile)"
   ]
  },
  {
   "cell_type": "code",
   "execution_count": 8,
   "metadata": {
    "collapsed": false
   },
   "outputs": [],
   "source": [
    "ax = subplot(1,1,1)\n",
    "frm = 0\n",
    "import time\n",
    "\n",
    "frm = stacks[0]\n",
    "subfrm = frm[x:x+box_size,y:y+box_size]\n",
    "im = ax.imshow(subfrm/np.max(subfrm))\n",
    "for frm in stacks:\n",
    "#frm = stacks[20]\n",
    "    subfrm = frm[x:x+box_size,y:y+box_size]\n",
    "    im.set_data(subfrm/np.max(subfrm))\n",
    "    draw()\n",
    "    time.sleep(0.1)\n",
    "    #pause(0.01)"
   ]
  },
  {
   "cell_type": "code",
   "execution_count": 17,
   "metadata": {
    "collapsed": true
   },
   "outputs": [],
   "source": [
    "tifffiles = [tf for tf in os.listdir('./Point_spread_calibration/') if '.tiff' in tf]"
   ]
  },
  {
   "cell_type": "code",
   "execution_count": 19,
   "metadata": {
    "collapsed": false
   },
   "outputs": [],
   "source": [
    "imgs = [ndimage.imread('./Point_spread_calibration/' + tf,flatten = True) for tf in tifffiles]"
   ]
  },
  {
   "cell_type": "code",
   "execution_count": 20,
   "metadata": {
    "collapsed": true
   },
   "outputs": [],
   "source": [
    "import time"
   ]
  },
  {
   "cell_type": "code",
   "execution_count": 26,
   "metadata": {
    "collapsed": false
   },
   "outputs": [],
   "source": [
    "img = imshow(imgs[0])\n",
    "for im in imgs:\n",
    "    img.set_data(im)\n",
    "    show()\n",
    "    time.sleep(0.1)"
   ]
  },
  {
   "cell_type": "code",
   "execution_count": null,
   "metadata": {
    "collapsed": false
   },
   "outputs": [],
   "source": [
    "imshow(imgs[5])"
   ]
  },
  {
   "cell_type": "code",
   "execution_count": null,
   "metadata": {
    "collapsed": true
   },
   "outputs": [],
   "source": []
  }
 ],
 "metadata": {
  "kernelspec": {
   "display_name": "Python 2",
   "language": "python",
   "name": "python2"
  },
  "language_info": {
   "codemirror_mode": {
    "name": "ipython",
    "version": 2
   },
   "file_extension": ".py",
   "mimetype": "text/x-python",
   "name": "python",
   "nbconvert_exporter": "python",
   "pygments_lexer": "ipython2",
   "version": "2.7.12"
  },
  "widgets": {
   "state": {
    "274e954338714368aa9a60479ce67e3d": {
     "views": [
      {
       "cell_index": 16
      }
     ]
    }
   },
   "version": "1.2.0"
  }
 },
 "nbformat": 4,
 "nbformat_minor": 2
}
